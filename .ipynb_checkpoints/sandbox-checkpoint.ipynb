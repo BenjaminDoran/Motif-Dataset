{
 "cells": [
  {
   "cell_type": "code",
   "execution_count": 24,
   "metadata": {
    "collapsed": false
   },
   "outputs": [],
   "source": [
    "url = \"http://jaspar.genereg.net/html/DOWNLOAD/bed_files/\"\n",
    "import requests\n",
    "from bs4 import BeautifulSoup as bs\n",
    "import pandas as pd\n",
    "import re"
   ]
  },
  {
   "cell_type": "code",
   "execution_count": null,
   "metadata": {
    "collapsed": true
   },
   "outputs": [],
   "source": [
    "def load_jasper_bed_files(str: url) -> bool:\n",
    "    \"\"\"loads jasper bed files which contain jasper motif id \n",
    "    and locus of motif, writes information to .csv file\n",
    "    \"\"\"\n",
    "    response = requests.get(url)\n",
    "    soup = bs(response.content, \"html.parser\")"
   ]
  },
  {
   "cell_type": "code",
   "execution_count": 31,
   "metadata": {
    "collapsed": false
   },
   "outputs": [],
   "source": [
    "response = requests.get(url)\n",
    "soup = bs(response.content, \"html.parser\")\n",
    "bed_motifs = soup.find_all(\"a\", text = re.compile(\"MA.\"))"
   ]
  },
  {
   "cell_type": "code",
   "execution_count": null,
   "metadata": {
    "collapsed": false
   },
   "outputs": [],
   "source": [
    "for a in bed_motifs:\n",
    "    motif_id = a.text[:-4]\n",
    "    locus_file = pandas.read_csv(url + a.text, sep = \"\\t\", header )\n",
    "    \n",
    "    test_df = pd.read_csv(bed_url + bed_motifs[0].text, sep = \"\\t\", header = None)\n",
    "    test_df.columns = [\"chromasome\", \"start\", \"stop\", \"query\", \"dot\", \"strand\"]\n",
    "    test_df[\"organism\"] = test_df.loc[:,\"query\"].str.split(r\"_\", expand = True).loc[:,0]"
   ]
  },
  {
   "cell_type": "code",
   "execution_count": 44,
   "metadata": {
    "collapsed": false
   },
   "outputs": [],
   "source": [
    "test_df = pd.read_csv(bed_url + bed_motifs[0].text, sep = \"\\t\", header = None)"
   ]
  },
  {
   "cell_type": "code",
   "execution_count": 76,
   "metadata": {
    "collapsed": false
   },
   "outputs": [
    {
     "data": {
      "text/plain": [
       "{'.'}"
      ]
     },
     "execution_count": 76,
     "metadata": {},
     "output_type": "execute_result"
    }
   ],
   "source": [
    "set(test_df.loc[:,\"dot\"])"
   ]
  },
  {
   "cell_type": "code",
   "execution_count": 73,
   "metadata": {
    "collapsed": false
   },
   "outputs": [],
   "source": []
  }
 ],
 "metadata": {
  "kernelspec": {
   "display_name": "Python [Root]",
   "language": "python",
   "name": "Python [Root]"
  },
  "language_info": {
   "codemirror_mode": {
    "name": "ipython",
    "version": 3
   },
   "file_extension": ".py",
   "mimetype": "text/x-python",
   "name": "python",
   "nbconvert_exporter": "python",
   "pygments_lexer": "ipython3",
   "version": "3.5.2"
  }
 },
 "nbformat": 4,
 "nbformat_minor": 0
}
